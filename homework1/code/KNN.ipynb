{
  "cells": [
    {
      "cell_type": "markdown",
      "id": "39a37345-99a6-4b16-9be7-ebdca1414c7f",
      "metadata": {
        "id": "39a37345-99a6-4b16-9be7-ebdca1414c7f"
      },
      "source": [
        "# Домашнее задание №1 - Метод К-ближайших соседей (K-neariest neighbors)\n",
        "\n",
        "Сегодня мы с вами реализуем наш первый алгоритм машинного обучения, метод К-ближайших соседей. Мы попытаемся решить с помощью него задачи:\n",
        "- бинарной классификации (то есть, только двум классам)\n",
        "- многоклассовой классификации (то есть, нескольким классам)\n",
        "- регрессии (когда зависимая переменная - натуральное число)\n",
        "\n",
        "Так как методу необходим гиперпараметр (hyperparameter) - количество соседей, то нам нужно научиться подбирать этот параметр. Мы постараемся научиться пользовать numpy для векторизованных вычислений, а также посмотрим на несколько метрик, которые используются в задачах классификации и регрессии.\n",
        "\n",
        "Перед выполнением задания:\n",
        "- установите все необходимые библиотеки, запустив `pip install -r requirements.txt`\n",
        "\n",
        "Если вы раньше не работали с numpy или позабыли его, то можно вспомнить здесь:  \n",
        "http://cs231n.github.io/python-numpy-tutorial/"
      ]
    },
    {
      "cell_type": "code",
      "execution_count": 1,
      "id": "9638c464-806f-41b5-9dfe-1ea2048a1fa1",
      "metadata": {
        "id": "9638c464-806f-41b5-9dfe-1ea2048a1fa1"
      },
      "outputs": [],
      "source": [
        "import sklearn\n",
        "import matplotlib\n",
        "import time\n",
        "import matplotlib.pyplot as plt\n",
        "import seaborn as sns\n",
        "import numpy as np\n",
        "import random\n",
        "import pandas as pd\n",
        "\n",
        "\n",
        "from sklearn.datasets import fetch_openml\n",
        "from sklearn.model_selection import train_test_split\n",
        "from knn import KNNClassifier\n",
        "from metrics import binary_classification_metrics, multiclass_accuracy, r_squared, mse, mae"
      ]
    },
    {
      "cell_type": "code",
      "execution_count": 2,
      "id": "43bd8dc9-c430-4313-a6a1-4d3e5a7e9c47",
      "metadata": {
        "id": "43bd8dc9-c430-4313-a6a1-4d3e5a7e9c47"
      },
      "outputs": [],
      "source": [
        "plt.rcParams[\"figure.figsize\"] = 12, 9\n",
        "sns.set_style(\"whitegrid\")\n",
        "\n",
        "SEED = 111\n",
        "random.seed(SEED)\n",
        "np.random.seed(SEED)"
      ]
    },
    {
      "cell_type": "markdown",
      "id": "2867b963-214c-49ea-9460-5b427b56544d",
      "metadata": {
        "id": "2867b963-214c-49ea-9460-5b427b56544d"
      },
      "source": [
        "## Задание 1. KNN на датасете Fashion-MNIST (10 баллов)"
      ]
    },
    {
      "cell_type": "markdown",
      "id": "60a90da7-87ac-42e6-b376-bb34dac2b10b",
      "metadata": {
        "id": "60a90da7-87ac-42e6-b376-bb34dac2b10b"
      },
      "source": [
        "В этом задании вам предстоит поработать с картинками одежды, среди которых можно выделить 10 классов. Данные уже загружены за вас: в переменной X лежат 70000 картинок размером 28 на 28 пикселей, вытянутые в вектор размерностью 784 (28 * 28). Так как данных довольно много, а наш KNN будет весьма медленный, то возьмем случайно 1000 наблюдений (в реальности в зависимости от вашей реализации можно будет взять больше, но если будет не зватать ОЗУ, то берите меньше)."
      ]
    },
    {
      "cell_type": "markdown",
      "source": [
        "* Each row is a separate image\n",
        "* 785 columns: 1st is the class label. *\n",
        "* Remaining columns are pixel numbers (784 total).\n",
        "* Each value is the darkness of the pixel (1 to 255)\n",
        "\n",
        "\n",
        "*Labels:\n",
        "* 0 T-shirt/top\n",
        "* 1 Trouser\n",
        "* 2 Pullover\n",
        "* 3 Dress\n",
        "* 4 Coat\n",
        "* 5 Sandal\n",
        "* 6 Shirt\n",
        "* 7 Sneaker\n",
        "* 8 Bag\n",
        "* 9 Ankle boot"
      ],
      "metadata": {
        "id": "34Y82aElTkdI"
      },
      "id": "34Y82aElTkdI"
    },
    {
      "cell_type": "code",
      "execution_count": 3,
      "id": "54fa4253-ea6a-4ec4-b914-f7cb2346b195",
      "metadata": {
        "colab": {
          "base_uri": "https://localhost:8080/"
        },
        "id": "54fa4253-ea6a-4ec4-b914-f7cb2346b195",
        "outputId": "d9b0114c-258d-440b-ab67-bbf2b3baeb95"
      },
      "outputs": [
        {
          "output_type": "stream",
          "name": "stdout",
          "text": [
            "(70000, 784) (70000,)\n"
          ]
        }
      ],
      "source": [
        "X, y = fetch_openml(name=\"Fashion-MNIST\", return_X_y=True, as_frame=False) \n",
        "# return_X_y=True: Returns a tuple of two nparrays or dataframe; \n",
        "# as_frame=False the data will be presented in an array\n",
        "print(X.shape, y.shape)"
      ]
    },
    {
      "cell_type": "code",
      "execution_count": 4,
      "id": "3a188c83-6bf3-485d-9995-9f71d0868d30",
      "metadata": {
        "id": "3a188c83-6bf3-485d-9995-9f71d0868d30",
        "colab": {
          "base_uri": "https://localhost:8080/"
        },
        "outputId": "5a98a8e3-561f-40f2-98ef-7a14b4c77aff"
      },
      "outputs": [
        {
          "output_type": "stream",
          "name": "stdout",
          "text": [
            "(1000, 784) (1000,)\n"
          ]
        }
      ],
      "source": [
        "# сократим масссив с 70000 до 1000\n",
        "idx_to_stay = np.random.choice(np.arange(X.shape[0]), replace=False, size=1000)\n",
        "# выбрать из 70000 (X.shape[0]) изображений 1000(size=1000) случайных\n",
        "# replace=False: each value can be selected only once!\n",
        "X = X[idx_to_stay] # положить выбранные значения в массивы X, y\n",
        "y = y[idx_to_stay]\n",
        "print(X.shape, y.shape)"
      ]
    },
    {
      "cell_type": "markdown",
      "id": "4a9e7f89-97f9-4257-94aa-989826258726",
      "metadata": {
        "id": "4a9e7f89-97f9-4257-94aa-989826258726"
      },
      "source": [
        "Давайте посмотрим на какое-нибудь изображение из наших данных:"
      ]
    },
    {
      "cell_type": "code",
      "execution_count": 5,
      "id": "277e132c-b89f-4dbb-8efd-cbcea015876d",
      "metadata": {
        "id": "277e132c-b89f-4dbb-8efd-cbcea015876d",
        "colab": {
          "base_uri": "https://localhost:8080/",
          "height": 538
        },
        "outputId": "5e8a9bd5-8b08-4f2a-b5cd-c859d1af82e8"
      },
      "outputs": [
        {
          "output_type": "execute_result",
          "data": {
            "text/plain": [
              "(-0.5, 27.5, 27.5, -0.5)"
            ]
          },
          "metadata": {},
          "execution_count": 5
        },
        {
          "output_type": "display_data",
          "data": {
            "text/plain": [
              "<Figure size 864x648 with 1 Axes>"
            ],
            "image/png": "[encoded data removed]"
          },
          "metadata": {}
        }
      ],
      "source": [
        "# возьмем случайную картинку (длинную строку в 784 столбца) и сделаем из неё \n",
        "# 2D-array (квадратную \"матрицу\") 28*28: reshape(28, 28)\n",
        "\n",
        "image = X[np.random.choice(np.arange(X.shape[0]))].reshape(28, 28)\n",
        "plt.imshow(image, cmap='viridis') #display in a 'viridis' gradient\n",
        "plt.axis(\"off\")"
      ]
    },
    {
      "cell_type": "markdown",
      "id": "236e593f-595e-45f1-a794-4069a16637d7",
      "metadata": {
        "id": "236e593f-595e-45f1-a794-4069a16637d7"
      },
      "source": [
        "### 1.1. Посмотрим на все классы (0.5 баллов)"
      ]
    },
    {
      "cell_type": "markdown",
      "id": "8cdf3ab2-47a4-492f-bf9a-25c4b00eb945",
      "metadata": {
        "id": "8cdf3ab2-47a4-492f-bf9a-25c4b00eb945"
      },
      "source": [
        "Возьмите по одной картинке каждого класса и изобразите их (например, subplots 5 на 2)."
      ]
    },
    {
      "cell_type": "code",
      "source": [
        "labels = {0:'T-shirt', 1:'Trouser', 2:'Pullover', 3: 'Dress', 4: 'Coat', \n",
        "          5: 'Sandal', 6: 'Shirt', 7: 'Sneaker', 8: 'Bag', 9: 'Ankle boot'}\n",
        "y = y.astype(int) # make an integer array\n",
        "plt.figure(figsize = (10, 5))\n",
        "for lb in range(10):\n",
        "  plt.subplot(2,5,lb+1)\n",
        "  idx = np.where(y == lb)[0][0] ###\n",
        "  image = X[idx].reshape(28, 28)\n",
        "  plt.imshow(image, cmap='viridis')\n",
        "  plt.title(labels[lb])\n",
        "  plt.axis(\"off\")"
      ],
      "metadata": {
        "colab": {
          "base_uri": "https://localhost:8080/",
          "height": 291
        },
        "id": "XJZfZfcjB8Gn",
        "outputId": "285e2857-f315-4886-a023-d152bb666c94"
      },
      "id": "XJZfZfcjB8Gn",
      "execution_count": 6,
      "outputs": [
        {
          "output_type": "display_data",
          "data": {
            "text/plain": [
              "<Figure size 720x360 with 10 Axes>"
            ],
            "image/png": "[encoded data removed]"
          },
          "metadata": {}
        }
      ]
    },
    {
      "cell_type": "markdown",
      "id": "866ea214-4de8-41b8-a2aa-c86ac0a04b74",
      "metadata": {
        "id": "866ea214-4de8-41b8-a2aa-c86ac0a04b74"
      },
      "source": [
        "### 1.2. Сделайте небольшой EDA (1 балл)"
      ]
    },
    {
      "cell_type": "markdown",
      "id": "1fe3abdf-2c95-4ce8-8fd3-2445d815ea3c",
      "metadata": {
        "id": "1fe3abdf-2c95-4ce8-8fd3-2445d815ea3c"
      },
      "source": [
        "Посмотрите на баланс классов. В дальнейших домашках делайте EDA, когда считаете нужным, он нужен почти всегда, но оцениваться это уже не будет, если не будет указано иное. Делайте EDA, чтобы узнать что-то новое о данных!"
      ]
    },
    {
      "cell_type": "code",
      "source": [
        "y_lb = np.array([labels[x] for x in y]) # make an array of lables\n",
        "items = pd.DataFrame(y_lb)\n",
        "items.value_counts()"
      ],
      "metadata": {
        "colab": {
          "base_uri": "https://localhost:8080/"
        },
        "id": "2NorMfqhPbCG",
        "outputId": "b8c9b301-6682-40ab-dc21-6bc9ff65283b"
      },
      "id": "2NorMfqhPbCG",
      "execution_count": 7,
      "outputs": [
        {
          "output_type": "execute_result",
          "data": {
            "text/plain": [
              "Dress         121\n",
              "Bag           109\n",
              "Ankle boot    106\n",
              "Trouser       102\n",
              "Shirt         101\n",
              "Sandal         98\n",
              "Coat           96\n",
              "Pullover       95\n",
              "T-shirt        93\n",
              "Sneaker        79\n",
              "dtype: int64"
            ]
          },
          "metadata": {},
          "execution_count": 7
        }
      ]
    },
    {
      "cell_type": "code",
      "execution_count": 8,
      "id": "74595ef7-06ab-4700-b9d9-42db3fdd36d5",
      "metadata": {
        "id": "74595ef7-06ab-4700-b9d9-42db3fdd36d5",
        "colab": {
          "base_uri": "https://localhost:8080/",
          "height": 537
        },
        "outputId": "341cd74a-4138-4735-e582-8bb1969e0c09"
      },
      "outputs": [
        {
          "output_type": "display_data",
          "data": {
            "text/plain": [
              "<Figure size 864x648 with 1 Axes>"
            ],
            "image/png": "[encoded data removed]"
          },
          "metadata": {}
        }
      ],
      "source": [
        "hist = sns.histplot(y_lb)\n",
        "# распределение вещей по типу выглядит вполне равномерно (классы сбалансированны)"
      ]
    },
    {
      "cell_type": "markdown",
      "id": "68e8f61e-32d5-4ad7-9f2c-f7e0de050d32",
      "metadata": {
        "id": "68e8f61e-32d5-4ad7-9f2c-f7e0de050d32"
      },
      "source": [
        "### 1.3. Разделите данные на train и test (0.5 баллов)"
      ]
    },
    {
      "cell_type": "markdown",
      "id": "25cf3d30-6bd6-4bbb-bba6-4e249da33475",
      "metadata": {
        "id": "25cf3d30-6bd6-4bbb-bba6-4e249da33475"
      },
      "source": [
        "Разделите данные на тренировочную и тестовую выборки, размеры тестовой выборки выберите сами. Здесь вам может помочь функция `train_test_split`"
      ]
    },
    {
      "cell_type": "code",
      "execution_count": 9,
      "id": "1932bd43-16d6-4201-8950-7dbe720a9fa1",
      "metadata": {
        "id": "1932bd43-16d6-4201-8950-7dbe720a9fa1",
        "colab": {
          "base_uri": "https://localhost:8080/"
        },
        "outputId": "3f63b525-fb0b-4530-9655-8ccd44d5844d"
      },
      "outputs": [
        {
          "output_type": "stream",
          "name": "stdout",
          "text": [
            "train size = 800;   test size = 200\n"
          ]
        }
      ],
      "source": [
        "X_train, X_test, y_train, y_test = train_test_split(X, y, test_size=0.2)\n",
        "print('train size = ', X_train.shape[0], ';   test size = ', X_test.shape[0], sep='')"
      ]
    },
    {
      "cell_type": "markdown",
      "id": "7c8e4cd4-b3d7-49b7-9b10-be02991ecfa7",
      "metadata": {
        "id": "7c8e4cd4-b3d7-49b7-9b10-be02991ecfa7"
      },
      "source": [
        "### 1.4. KNN для бинарной классификации (6 баллов)"
      ]
    },
    {
      "cell_type": "markdown",
      "id": "aac2e121-639a-4b0c-8e9c-471ad5a8fac6",
      "metadata": {
        "id": "aac2e121-639a-4b0c-8e9c-471ad5a8fac6"
      },
      "source": [
        "Давайте возьмем для задачи бинарной классификации только объекты с метками классов 0 и 1."
      ]
    },
    {
      "cell_type": "code",
      "source": [
        "y_bin, X_bin = y[y < 2], X[y < 2]"
      ],
      "metadata": {
        "id": "68p4APCBtioq"
      },
      "id": "68p4APCBtioq",
      "execution_count": 10,
      "outputs": []
    },
    {
      "cell_type": "markdown",
      "source": [
        "Полученный массив разделим на тренировочную и тестовую выборки:"
      ],
      "metadata": {
        "id": "oZS1h_Dht5yV"
      },
      "id": "oZS1h_Dht5yV"
    },
    {
      "cell_type": "code",
      "execution_count": 11,
      "id": "f40beae7-54a4-4323-b467-3173737dfd84",
      "metadata": {
        "id": "f40beae7-54a4-4323-b467-3173737dfd84",
        "colab": {
          "base_uri": "https://localhost:8080/"
        },
        "outputId": "203c72b3-1214-45d0-e397-9e95bfc496ad"
      },
      "outputs": [
        {
          "output_type": "stream",
          "name": "stdout",
          "text": [
            "train size = 156;   test size = 39\n"
          ]
        }
      ],
      "source": [
        "binary_train_X, binary_test_X, binary_train_y, binary_test_y = train_test_split(X_bin, y_bin, test_size=0.2)\n",
        "print('train size = ', binary_train_X.shape[0], ';   test size = ', binary_test_X.shape[0], sep='')"
      ]
    },
    {
      "cell_type": "markdown",
      "id": "7df7db35-8832-47ec-9955-d0656695e7cd",
      "metadata": {
        "id": "7df7db35-8832-47ec-9955-d0656695e7cd"
      },
      "source": [
        "И вот мы подготовили данные, но модели у нас пока что нет. В нескольких занятиях нашего курса вам придется самостоятельно реализовывать какие-то алгоритмы машинного обучения, а потом сравнивать их с готовыми библиотечными решениями. В остальных заданиях реализовывать алгоритмы будет не обязательно, но может быть полезно, поэтому часто это будут задания на дополнительные баллы, но главное не это, а понимание работы алгоритма после его реализации с нуля на простом numpy. Также это все потом можно оформить в виде репозитория ml_from_scratch и хвастаться перед друзьями."
      ]
    },
    {
      "cell_type": "code",
      "execution_count": 12,
      "id": "44d468e9-2a00-4268-bfdc-fbae3857ce90",
      "metadata": {
        "id": "44d468e9-2a00-4268-bfdc-fbae3857ce90"
      },
      "outputs": [],
      "source": [
        "knn_classifier = KNNClassifier(k=1)\n",
        "knn_classifier.fit(binary_train_X, binary_train_y)"
      ]
    },
    {
      "cell_type": "markdown",
      "id": "c5817a1d-161e-4242-bea5-821f416b3eec",
      "metadata": {
        "id": "c5817a1d-161e-4242-bea5-821f416b3eec"
      },
      "source": [
        "### Настало время писать код!"
      ]
    },
    {
      "cell_type": "markdown",
      "id": "61c760bb-63c9-426d-9f4e-8fab02536da5",
      "metadata": {
        "id": "61c760bb-63c9-426d-9f4e-8fab02536da5"
      },
      "source": [
        "В KNN нам нужно для каждого тестового примера найти расстояния до всех точек обучающей выборки. Допустим у нас 1000 примеров в train'е и 100 в test'е, тогда в итоге мы бы хотели получить матрицу попарных расстояний (например, размерностью 100 на 1000). Это можно сделать несколькими способами, и кому-то наверняка, в голову приходит идея с двумя вложенными циклами (надеюсь, что не больше:). Так можно делать, то можно и эффективнее. Вообще, в реальном KNN используется структура данных [k-d-tree](https://ru.wikipedia.org/wiki/K-d-%D0%B4%D0%B5%D1%80%D0%B5%D0%B2%D0%BE), которая позволяет производить поиск за log(N), а не за N, как будем делать мы (по сути это такое расширение бинарного поиска на многомерное пространство).\n",
        "\n",
        "Вам нужно будет последовательно реализовать методы `compute_distances_two_loops`, `compute_distances_one_loop` и `compute_distances_no_loops` класса `KNN` в файле `knn.py`.\n",
        "\n",
        "Эти функции строят массив расстояний между всеми векторами в тестовом наборе и в тренировочном наборе.  \n",
        "В результате они должны построить массив размера `(num_test, num_train)`, где координата `[i][j]` соотвествует расстоянию между i-м вектором в test (`test[i]`) и j-м вектором в train (`train[j]`).\n",
        "\n",
        "**Обратите внимание** Для простоты реализации мы будем использовать в качестве расстояния меру L1 (ее еще называют [Manhattan distance](https://ru.wikipedia.org/wiki/%D0%A0%D0%B0%D1%81%D1%81%D1%82%D0%BE%D1%8F%D0%BD%D0%B8%D0%B5_%D0%B3%D0%BE%D1%80%D0%BE%D0%B4%D1%81%D0%BA%D0%B8%D1%85_%D0%BA%D0%B2%D0%B0%D1%80%D1%82%D0%B0%D0%BB%D0%BE%D0%B2)).\n",
        "\n",
        "$d_{1}(\\mathbf {p} ,\\mathbf {q} )=\\|\\mathbf {p} -\\mathbf {q} \\|_{1}=\\sum _{i=1}^{n}|p_{i}-q_{i}|$"
      ]
    },
    {
      "cell_type": "markdown",
      "id": "c32db2d0-355c-4d74-961e-22d6f42aa11b",
      "metadata": {
        "id": "c32db2d0-355c-4d74-961e-22d6f42aa11b"
      },
      "source": [
        "В начале я буду иногда писать разные assert'ы, чтобы можно было проверить правильность реализации, в дальнейшем вам нужно будет их писать самим, если нужно будет проверять корректность каких-то вычислений."
      ]
    },
    {
      "cell_type": "code",
      "execution_count": 13,
      "id": "01b1ef27-4284-4d6c-978b-25f0fefd39be",
      "metadata": {
        "id": "01b1ef27-4284-4d6c-978b-25f0fefd39be"
      },
      "outputs": [],
      "source": [
        "# TODO: compute_distances_two_loops\n",
        "dists = knn_classifier.compute_distances_two_loops(binary_test_X)\n",
        "assert np.isclose(dists[0, 100], np.sum(np.abs(binary_test_X[0] - binary_train_X[100])))"
      ]
    },
    {
      "cell_type": "code",
      "execution_count": 14,
      "id": "505e2c4b-1cfe-4e4a-8002-d9ce089d100e",
      "metadata": {
        "id": "505e2c4b-1cfe-4e4a-8002-d9ce089d100e"
      },
      "outputs": [],
      "source": [
        "# TODO: compute_distances_one_loop\n",
        "dists = knn_classifier.compute_distances_one_loop(binary_test_X)\n",
        "assert np.isclose(dists[0, 100], np.sum(np.abs(binary_test_X[0] - binary_train_X[100])))"
      ]
    },
    {
      "cell_type": "code",
      "execution_count": 15,
      "id": "dd81b766-5de2-4f62-82cf-8b6bd52002db",
      "metadata": {
        "id": "dd81b766-5de2-4f62-82cf-8b6bd52002db"
      },
      "outputs": [],
      "source": [
        "# TODO: compute_distances_no_loops\n",
        "dists = knn_classifier.compute_distances_no_loops(binary_test_X)\n",
        "assert np.isclose(dists[0, 100], np.sum(np.abs(binary_test_X[0] - binary_train_X[100])))"
      ]
    },
    {
      "cell_type": "markdown",
      "id": "64d108b7-b132-42b5-bdca-bc91af8ed3d7",
      "metadata": {
        "id": "64d108b7-b132-42b5-bdca-bc91af8ed3d7"
      },
      "source": [
        "Проверим скорость работы реализованных методов"
      ]
    },
    {
      "cell_type": "code",
      "execution_count": 16,
      "id": "8ed08354-d0ef-497a-9d9c-b17c92b7bef9",
      "metadata": {
        "id": "8ed08354-d0ef-497a-9d9c-b17c92b7bef9",
        "colab": {
          "base_uri": "https://localhost:8080/"
        },
        "outputId": "fd38f332-8acd-4bcf-9f8a-8bda8b383d2a"
      },
      "outputs": [
        {
          "output_type": "stream",
          "name": "stdout",
          "text": [
            "35.4 ms ± 1 ms per loop (mean ± std. dev. of 7 runs, 10 loops each)\n",
            "10.6 ms ± 975 µs per loop (mean ± std. dev. of 7 runs, 100 loops each)\n",
            "3.68 ms ± 30.7 µs per loop (mean ± std. dev. of 7 runs, 100 loops each)\n"
          ]
        }
      ],
      "source": [
        "%timeit knn_classifier.compute_distances_two_loops(binary_test_X)\n",
        "%timeit knn_classifier.compute_distances_one_loop(binary_test_X)\n",
        "%timeit knn_classifier.compute_distances_no_loops(binary_test_X)"
      ]
    },
    {
      "cell_type": "markdown",
      "source": [
        "Как и следовало ожидать, быстрее всего работает третий алгоритм"
      ],
      "metadata": {
        "id": "H_ZKcrZoego4"
      },
      "id": "H_ZKcrZoego4"
    },
    {
      "cell_type": "markdown",
      "id": "8180ecc3-8c24-4564-8963-1a0123b06043",
      "metadata": {
        "id": "8180ecc3-8c24-4564-8963-1a0123b06043"
      },
      "source": [
        "Реализуем метод для предсказания меток класса"
      ]
    },
    {
      "cell_type": "code",
      "execution_count": 17,
      "id": "9ca2679e-c731-467b-94b5-91a3a0641d7e",
      "metadata": {
        "id": "9ca2679e-c731-467b-94b5-91a3a0641d7e"
      },
      "outputs": [],
      "source": [
        "# TODO: predict_labels_binary in knn.py\n",
        "prediction = knn_classifier.predict(binary_test_X)"
      ]
    },
    {
      "cell_type": "markdown",
      "id": "d746796d-6ca0-4828-be8a-8b9e22999f54",
      "metadata": {
        "id": "d746796d-6ca0-4828-be8a-8b9e22999f54"
      },
      "source": [
        "### Метрика"
      ]
    },
    {
      "cell_type": "markdown",
      "id": "c29f2abf-be34-4273-a7cd-d2c62ba1eecc",
      "metadata": {
        "id": "c29f2abf-be34-4273-a7cd-d2c62ba1eecc"
      },
      "source": [
        "Теперь нужно реализовать несколько метрик для бинарной классификации. Не забудьте подумать о численной нестабильности (деление на 0)."
      ]
    },
    {
      "cell_type": "code",
      "execution_count": 18,
      "id": "94268969-5334-4672-a939-65733068a89a",
      "metadata": {
        "id": "94268969-5334-4672-a939-65733068a89a"
      },
      "outputs": [],
      "source": [
        "# TODO: binary_classification_metrics in metrics.py"
      ]
    },
    {
      "cell_type": "code",
      "execution_count": 19,
      "id": "7842978b-a328-4035-b9c4-eb3711cb58c4",
      "metadata": {
        "id": "7842978b-a328-4035-b9c4-eb3711cb58c4",
        "colab": {
          "base_uri": "https://localhost:8080/"
        },
        "outputId": "18b1d038-5714-47b8-fc4b-fbfc9f4cd55f"
      },
      "outputs": [
        {
          "output_type": "stream",
          "name": "stdout",
          "text": [
            "precision: 0.9523809523809523, \n",
            "recall: 1.0, \n",
            "f1: 0.975609756097561, \n",
            "accuracy: 0.9743589743589743\n"
          ]
        }
      ],
      "source": [
        "precision, recall, f1, accuracy = binary_classification_metrics(prediction, binary_test_y)\n",
        "print(f'precision: {precision}, \\nrecall: {recall}, \\\n",
        "\\nf1: {f1}, \\naccuracy: {accuracy}')"
      ]
    },
    {
      "cell_type": "markdown",
      "id": "71dbca1f-9ad4-4059-9b1c-0c0c85d7d816",
      "metadata": {
        "id": "71dbca1f-9ad4-4059-9b1c-0c0c85d7d816"
      },
      "source": [
        "Все ли хорошо с моделью? Можно проверить свою реализацию с функциями из библиотеки `sklearn`:"
      ]
    },
    {
      "cell_type": "markdown",
      "id": "5982d081-ddf9-4522-99b0-459a5cee087c",
      "metadata": {
        "id": "5982d081-ddf9-4522-99b0-459a5cee087c"
      },
      "source": [
        "<img src=\"https://i.imgflip.com/406fu9.jpg\" width=\"800\" height=\"400\">"
      ]
    },
    {
      "cell_type": "code",
      "execution_count": 20,
      "id": "5caeb94f-6464-4adf-b3b6-8e12bf4a50b4",
      "metadata": {
        "id": "5caeb94f-6464-4adf-b3b6-8e12bf4a50b4"
      },
      "outputs": [],
      "source": [
        "from sklearn.metrics import precision_score, recall_score, f1_score, accuracy_score"
      ]
    },
    {
      "cell_type": "code",
      "source": [
        "print(f'precision_sklearn: {precision_score(binary_test_y, prediction)}, \\\n",
        "\\nrecall_sklearn: {recall_score(binary_test_y, prediction)}, \\\n",
        "\\nf1_sklearn: {f1_score(binary_test_y, prediction)}, \\\n",
        "\\naccuracy_sklearn: {accuracy_score(binary_test_y, prediction)}')"
      ],
      "metadata": {
        "colab": {
          "base_uri": "https://localhost:8080/"
        },
        "id": "HQ-djq7t85LY",
        "outputId": "1005e9fd-dca1-471d-8daa-e5c18fdd1b63"
      },
      "id": "HQ-djq7t85LY",
      "execution_count": 21,
      "outputs": [
        {
          "output_type": "stream",
          "name": "stdout",
          "text": [
            "precision_sklearn: 0.9523809523809523, \n",
            "recall_sklearn: 1.0, \n",
            "f1_sklearn: 0.975609756097561, \n",
            "accuracy_sklearn: 0.9743589743589743\n"
          ]
        }
      ]
    },
    {
      "cell_type": "markdown",
      "source": [
        "*Вывод: самодельные функции дают абсолютно те же значения метрик, что и \"фирменные\" (от sklearn), что хорошо.*"
      ],
      "metadata": {
        "id": "htZvEWlR_pyU"
      },
      "id": "htZvEWlR_pyU"
    },
    {
      "cell_type": "markdown",
      "id": "6e9b0e1a-3c67-4cc3-bf75-6848f43e8256",
      "metadata": {
        "id": "6e9b0e1a-3c67-4cc3-bf75-6848f43e8256"
      },
      "source": [
        "### Подбор оптимального k"
      ]
    },
    {
      "cell_type": "markdown",
      "id": "4069069e-f200-4673-a99c-745e7a5b6b36",
      "metadata": {
        "id": "4069069e-f200-4673-a99c-745e7a5b6b36"
      },
      "source": [
        "Чтобы подрбрать оптимальное значение параметра k можно сделать следующее: задать область допустимых значений k, например, `[1, 3, 5, 10]`. Дальше для каждого k обучить модель на тренировочных данных, сделать предсказания на тестовых и посчитать какую-нибудь метрику (метрику выберите сами исходя из задачи, но постарайтесь обосновать выбор). В конце нужно посмотреть на зависимость метрики на train'е и test'е от k и выбрать подходящее значение.\n",
        "\n",
        "Реализуйте функцию `choose_best_k` прямо в ноутбуке."
      ]
    },
    {
      "cell_type": "code",
      "execution_count": 22,
      "id": "374d6fcf-21f2-433c-b011-76019201ce52",
      "metadata": {
        "id": "374d6fcf-21f2-433c-b011-76019201ce52"
      },
      "outputs": [],
      "source": [
        "def find_best_k(X_train, y_train, X_test, y_test, params, metric):\n",
        "    \"\"\"\n",
        "    Choose the best k for KKNClassifier\n",
        "    Arguments:\n",
        "    X_train, np array (num_train_samples, num_features) - train data\n",
        "    y_train, np array (num_train_samples) - train labels\n",
        "    X_test, np array (num_test_samples, num_features) - test data\n",
        "    y_test, np array (num_test_samples) - test labels\n",
        "    params, list of hyperparameters for KNN, here it is list of k values\n",
        "    metric, function for metric calculation\n",
        "    Returns:\n",
        "    train_metrics the list of metric values on train data set for each k in params\n",
        "    test_metrics the list of metric values on test data set for each k in params\n",
        "    \"\"\"\n",
        "    \n",
        "    train_metrics = []\n",
        "    test_metrics = []\n",
        "\n",
        "    for k in params:\n",
        "        knn_classifier = KNNClassifier(k=k)\n",
        "        knn_classifier.fit(X_train, y_train)\n",
        "        train_pred = knn_classifier.predict(X_train)\n",
        "        test_pred = knn_classifier.predict(X_test)\n",
        "        train_metrics.append(metric(y_train, train_pred))\n",
        "        test_metrics.append(metric(y_test, test_pred))\n",
        "    \n",
        "    return train_metrics, test_metrics\n"
      ]
    },
    {
      "cell_type": "code",
      "execution_count": 23,
      "id": "a2418dd8-93f1-4a11-8488-a8bce98e7d5f",
      "metadata": {
        "tags": [],
        "id": "a2418dd8-93f1-4a11-8488-a8bce98e7d5f"
      },
      "outputs": [],
      "source": [
        "# Accuracy score\n",
        "params = range(1, 70, 2)\n",
        "train_metrics, test_metrics = find_best_k(binary_train_X, binary_train_y, \n",
        "                                          binary_test_X, binary_test_y, \n",
        "                                          params, accuracy_score)"
      ]
    },
    {
      "cell_type": "code",
      "execution_count": 24,
      "id": "7053ce06-854c-412b-8559-833595b1d6c0",
      "metadata": {
        "id": "7053ce06-854c-412b-8559-833595b1d6c0",
        "colab": {
          "base_uri": "https://localhost:8080/",
          "height": 551
        },
        "outputId": "1790ba9a-a424-4110-98b6-06390866960d"
      },
      "outputs": [
        {
          "output_type": "display_data",
          "data": {
            "text/plain": [
              "<Figure size 864x648 with 1 Axes>"
            ],
            "image/png": "[encoded data removed]"
          },
          "metadata": {}
        }
      ],
      "source": [
        "plt.plot(params, train_metrics, label=\"train\")\n",
        "plt.plot(params, test_metrics, label=\"test\")\n",
        "plt.legend()\n",
        "plt.xlabel(\"K in KNN\")\n",
        "plt.ylabel(\"Accuracy score\");"
      ]
    },
    {
      "cell_type": "code",
      "source": [
        "# Precision score\n",
        "params = range(1, 70, 2)\n",
        "train_metrics, test_metrics = find_best_k(binary_train_X, binary_train_y, \n",
        "                                          binary_test_X, binary_test_y, \n",
        "                                          params, precision_score)\n",
        "\n",
        "plt.plot(params, train_metrics, label=\"train\")\n",
        "plt.plot(params, test_metrics, label=\"test\")\n",
        "plt.legend()\n",
        "plt.xlabel(\"K in KNN\")\n",
        "plt.ylabel(\"Precision score\");"
      ],
      "metadata": {
        "colab": {
          "base_uri": "https://localhost:8080/",
          "height": 551
        },
        "id": "OGVYCEMSW_l_",
        "outputId": "fac2d42a-1731-4b4d-abe7-82277d25a34a"
      },
      "id": "OGVYCEMSW_l_",
      "execution_count": 25,
      "outputs": [
        {
          "output_type": "display_data",
          "data": {
            "text/plain": [
              "<Figure size 864x648 with 1 Axes>"
            ],
            "image/png": "[encoded data removed]"
          },
          "metadata": {}
        }
      ]
    },
    {
      "cell_type": "code",
      "source": [
        "# Recall score\n",
        "params = range(1, 70)\n",
        "train_metrics, test_metrics = find_best_k(binary_train_X, binary_train_y, \n",
        "                                          binary_test_X, binary_test_y, \n",
        "                                          params, recall_score)\n",
        "\n",
        "plt.plot(params, train_metrics, label=\"train\")\n",
        "plt.plot(params, test_metrics, label=\"test\")\n",
        "plt.legend()\n",
        "plt.xlabel(\"K in KNN\")\n",
        "plt.ylabel(\"Recall score\");"
      ],
      "metadata": {
        "colab": {
          "base_uri": "https://localhost:8080/",
          "height": 551
        },
        "id": "9F5DNigmXdCI",
        "outputId": "2b366e54-0bfd-4a4b-8334-951e6145b0bc"
      },
      "id": "9F5DNigmXdCI",
      "execution_count": 26,
      "outputs": [
        {
          "output_type": "display_data",
          "data": {
            "text/plain": [
              "<Figure size 864x648 with 1 Axes>"
            ],
            "image/png": "[encoded data removed]"
          },
          "metadata": {}
        }
      ]
    },
    {
      "cell_type": "markdown",
      "source": [
        "*По идее, при увеличении k должна увеличиваться предсказательная способность для тренировочной выборки и уменьшаться для тестовой (за счёт перетренированности). Но на графиках видим падение точнсти предсказания (???).\n",
        "В нашем случае максимальная точность достигается при k<20*"
      ],
      "metadata": {
        "id": "GABPpD0eaQOS"
      },
      "id": "GABPpD0eaQOS"
    },
    {
      "cell_type": "markdown",
      "id": "73fdecd7-a4b6-4ca9-8688-d1ae2195647f",
      "metadata": {
        "id": "73fdecd7-a4b6-4ca9-8688-d1ae2195647f"
      },
      "source": [
        "На самом деле, это не самый лучший способ подбирать гиперпараметры, но способы получше мы рассмотрим в следующий раз, а пока что выберите оптимальное значение k, сделайте предсказания и посмотрите, насколько хорошо ваша модель предсказывает каждый из классов."
      ]
    },
    {
      "cell_type": "markdown",
      "source": [
        "*Рассчитаем метрики при k=2*"
      ],
      "metadata": {
        "id": "sgpLoWo-df1F"
      },
      "id": "sgpLoWo-df1F"
    },
    {
      "cell_type": "code",
      "source": [
        "knn_classifier = KNNClassifier(k=2)\n",
        "knn_classifier.fit(binary_train_X, binary_train_y)\n",
        "prediction = knn_classifier.predict(binary_test_X)\n",
        "\n",
        "precision_k2, recall_k2, f1_k2, accuracy_k2 = binary_classification_metrics(prediction, binary_test_y)\n",
        "\n",
        "print(f'precision_k2: {precision_k2}, \\nrecall_k2: {recall_k2}, \\\n",
        "\\nf1_k2: {f1_k2}, \\naccuracy_k2: {accuracy_k2}')"
      ],
      "metadata": {
        "colab": {
          "base_uri": "https://localhost:8080/"
        },
        "id": "n9C4qCiNdtIC",
        "outputId": "a74387d3-e967-49f1-fc49-45fd0789a319"
      },
      "id": "n9C4qCiNdtIC",
      "execution_count": 27,
      "outputs": [
        {
          "output_type": "stream",
          "name": "stdout",
          "text": [
            "precision_k2: 1.0, \n",
            "recall_k2: 0.95, \n",
            "f1_k2: 0.9743589743589743, \n",
            "accuracy_k2: 0.9743589743589743\n"
          ]
        }
      ]
    },
    {
      "cell_type": "markdown",
      "id": "0bc98c29-3217-407c-a466-58072bb7b8cc",
      "metadata": {
        "id": "0bc98c29-3217-407c-a466-58072bb7b8cc"
      },
      "source": [
        "### 1.5. Многоклассоввая классификация (2 балла)"
      ]
    },
    {
      "cell_type": "markdown",
      "id": "aa0fa9bf-3002-4b0e-8e52-1d9e70795092",
      "metadata": {
        "id": "aa0fa9bf-3002-4b0e-8e52-1d9e70795092"
      },
      "source": [
        "Теперь нужно научиться предсказывать все 10 классов. Для этого в начале напишем соответствующий метод у нашего классификатора."
      ]
    },
    {
      "cell_type": "code",
      "execution_count": 28,
      "id": "88b37ef1-fa15-4cc5-8558-0254890c899d",
      "metadata": {
        "id": "88b37ef1-fa15-4cc5-8558-0254890c899d"
      },
      "outputs": [],
      "source": [
        "# TODO: predict_labels_multiclass in knn.py\n",
        "knn_classifier = KNNClassifier(k=1)\n",
        "knn_classifier.fit(X_train, y_train)\n",
        "predictions = knn_classifier.predict(X_test)"
      ]
    },
    {
      "cell_type": "markdown",
      "id": "fa8ed7ad-e347-4f78-b34f-88febee9e94b",
      "metadata": {
        "id": "fa8ed7ad-e347-4f78-b34f-88febee9e94b"
      },
      "source": [
        "Осталось реализовать метрику качества для многоклассовой классификации, для этого реализуйте функцию `multiclass_accuracy` в `metrics.py`."
      ]
    },
    {
      "cell_type": "code",
      "execution_count": 29,
      "id": "65887922-a799-4042-902e-f63f69508beb",
      "metadata": {
        "id": "65887922-a799-4042-902e-f63f69508beb",
        "colab": {
          "base_uri": "https://localhost:8080/"
        },
        "outputId": "a291332f-ef01-4ae7-9a75-fb54d94e963a"
      },
      "outputs": [
        {
          "output_type": "execute_result",
          "data": {
            "text/plain": [
              "0.8297872340425532"
            ]
          },
          "metadata": {},
          "execution_count": 29
        }
      ],
      "source": [
        "# TODO: multiclass_accuracy in metrics.py\n",
        "multiclass_accuracy(predictions, y_test)"
      ]
    },
    {
      "cell_type": "markdown",
      "source": [
        "*Сравним с результатами от sklearn:*"
      ],
      "metadata": {
        "id": "GpBsm7U6iU7S"
      },
      "id": "GpBsm7U6iU7S"
    },
    {
      "cell_type": "code",
      "source": [
        "accuracy_score(y_test, predictions)"
      ],
      "metadata": {
        "colab": {
          "base_uri": "https://localhost:8080/"
        },
        "id": "hTRgSMVxibI9",
        "outputId": "4c00b6ed-345c-400e-9ec9-121a12969e06"
      },
      "id": "hTRgSMVxibI9",
      "execution_count": 30,
      "outputs": [
        {
          "output_type": "execute_result",
          "data": {
            "text/plain": [
              "0.76"
            ]
          },
          "metadata": {},
          "execution_count": 30
        }
      ]
    },
    {
      "cell_type": "markdown",
      "source": [
        "*Самодельный классификатор работает даже лучше фирменного!*"
      ],
      "metadata": {
        "id": "oZZLKRrzjIq6"
      },
      "id": "oZZLKRrzjIq6"
    },
    {
      "cell_type": "markdown",
      "id": "a6fe44f6-e056-4f17-beb6-0ce65fab268f",
      "metadata": {
        "id": "a6fe44f6-e056-4f17-beb6-0ce65fab268f"
      },
      "source": [
        "Снова выберите оптимальное значение K как мы делали для бинарной классификации.\n",
        "\n",
        "*На этот раз оценим только k<10*"
      ]
    },
    {
      "cell_type": "code",
      "source": [
        "# Accuracy score\n",
        "params = range(1, 10)\n",
        "train_metrics, test_metrics = find_best_k(binary_train_X, binary_train_y, \n",
        "                                          binary_test_X, binary_test_y, \n",
        "                                          params, accuracy_score)\n",
        "\n",
        "plt.plot(params, train_metrics, label=\"train\")\n",
        "plt.plot(params, test_metrics, label=\"test\")\n",
        "plt.legend()\n",
        "plt.xlabel(\"K in KNN\")\n",
        "plt.ylabel(\"Accuracy score\");"
      ],
      "metadata": {
        "colab": {
          "base_uri": "https://localhost:8080/",
          "height": 551
        },
        "id": "UhGpadiIja8i",
        "outputId": "3d769ec1-b613-47d4-ad52-325abd080f6b"
      },
      "id": "UhGpadiIja8i",
      "execution_count": 31,
      "outputs": [
        {
          "output_type": "display_data",
          "data": {
            "text/plain": [
              "<Figure size 864x648 with 1 Axes>"
            ],
            "image/png": "[encoded data removed]"
          },
          "metadata": {}
        }
      ]
    },
    {
      "cell_type": "markdown",
      "source": [
        "*При k>2 видно ухудшение предсказательной способности, поэтому выберем k=2*"
      ],
      "metadata": {
        "id": "2xEZMqZqkBe5"
      },
      "id": "2xEZMqZqkBe5"
    },
    {
      "cell_type": "code",
      "source": [
        "knn_classifier = KNNClassifier(k=2)\n",
        "knn_classifier.fit(X_train, y_train)\n",
        "predictions = knn_classifier.predict(X_test)\n",
        "\n",
        "accuracy_multi_k2 = multiclass_accuracy(predictions, y_test)\n",
        "print(f'accuracy_multi_k2: {accuracy_multi_k2}')"
      ],
      "metadata": {
        "colab": {
          "base_uri": "https://localhost:8080/"
        },
        "id": "5Lz3dLLikmVd",
        "outputId": "c79d050e-054f-4515-b747-0fa6549cb9be"
      },
      "id": "5Lz3dLLikmVd",
      "execution_count": 32,
      "outputs": [
        {
          "output_type": "stream",
          "name": "stdout",
          "text": [
            "accuracy_multi_k2: 0.7884615384615384\n"
          ]
        }
      ]
    },
    {
      "cell_type": "markdown",
      "source": [
        "*Стало даже хуже! Для данной модели лучшим значением является k=1*"
      ],
      "metadata": {
        "id": "PqoYQo4OlJ3e"
      },
      "id": "PqoYQo4OlJ3e"
    },
    {
      "cell_type": "markdown",
      "id": "daa8ee4a-88c1-4967-84f1-6f7ec223db7e",
      "metadata": {
        "id": "daa8ee4a-88c1-4967-84f1-6f7ec223db7e"
      },
      "source": [
        "## Задание 2. KNN на датасете diabetes (10 баллов)"
      ]
    },
    {
      "cell_type": "markdown",
      "id": "d3dac1f9-42ef-406f-988c-2d663b8b2806",
      "metadata": {
        "id": "d3dac1f9-42ef-406f-988c-2d663b8b2806"
      },
      "source": [
        "Теперь попробуем применить KNN к задаче регрессии. Будем работать с [данными](https://scikit-learn.org/stable/datasets/toy_dataset.html#diabetes-dataset) о диабете. В этом задании будем использовать класс `KNeighborsRegressor` из библиотеки `sklearn`. Загрузим необходимые библиотеки:"
      ]
    },
    {
      "cell_type": "code",
      "execution_count": 33,
      "id": "8ab4c84e-6036-4fe2-b81f-8115bf0a4774",
      "metadata": {
        "id": "8ab4c84e-6036-4fe2-b81f-8115bf0a4774"
      },
      "outputs": [],
      "source": [
        "from sklearn.datasets import load_diabetes\n",
        "from sklearn.metrics import r2_score, mean_absolute_error, mean_squared_error\n",
        "from sklearn.preprocessing import StandardScaler\n",
        "from sklearn.neighbors import KNeighborsRegressor"
      ]
    },
    {
      "cell_type": "code",
      "execution_count": 34,
      "id": "4136b3bb-e482-4102-ad5f-af5b3b1a030a",
      "metadata": {
        "id": "4136b3bb-e482-4102-ad5f-af5b3b1a030a"
      },
      "outputs": [],
      "source": [
        "X, y = load_diabetes(as_frame=True, return_X_y=True)"
      ]
    },
    {
      "cell_type": "code",
      "execution_count": 35,
      "id": "c884e687-964a-4b00-9f10-232c45705f12",
      "metadata": {
        "id": "c884e687-964a-4b00-9f10-232c45705f12",
        "colab": {
          "base_uri": "https://localhost:8080/",
          "height": 206
        },
        "outputId": "16f95d1d-43a1-4994-fdde-9e86b31e1172"
      },
      "outputs": [
        {
          "output_type": "execute_result",
          "data": {
            "text/plain": [
              "        age       sex       bmi        bp        s1        s2        s3  \\\n",
              "0  0.038076  0.050680  0.061696  0.021872 -0.044223 -0.034821 -0.043401   \n",
              "1 -0.001882 -0.044642 -0.051474 -0.026328 -0.008449 -0.019163  0.074412   \n",
              "2  0.085299  0.050680  0.044451 -0.005671 -0.045599 -0.034194 -0.032356   \n",
              "3 -0.089063 -0.044642 -0.011595 -0.036656  0.012191  0.024991 -0.036038   \n",
              "4  0.005383 -0.044642 -0.036385  0.021872  0.003935  0.015596  0.008142   \n",
              "\n",
              "         s4        s5        s6  \n",
              "0 -0.002592  0.019908 -0.017646  \n",
              "1 -0.039493 -0.068330 -0.092204  \n",
              "2 -0.002592  0.002864 -0.025930  \n",
              "3  0.034309  0.022692 -0.009362  \n",
              "4 -0.002592 -0.031991 -0.046641  "
            ],
            "text/html": [
              "\n",
              "  <div id=\"df-43ae6d9a-175b-4728-a87f-ce7798b648dc\">\n",
              "    <div class=\"colab-df-container\">\n",
              "      <div>\n",
              "<style scoped>\n",
              "    .dataframe tbody tr th:only-of-type {\n",
              "        vertical-align: middle;\n",
              "    }\n",
              "\n",
              "    .dataframe tbody tr th {\n",
              "        vertical-align: top;\n",
              "    }\n",
              "\n",
              "    .dataframe thead th {\n",
              "        text-align: right;\n",
              "    }\n",
              "</style>\n",
              "<table border=\"1\" class=\"dataframe\">\n",
              "  <thead>\n",
              "    <tr style=\"text-align: right;\">\n",
              "      <th></th>\n",
              "      <th>age</th>\n",
              "      <th>sex</th>\n",
              "      <th>bmi</th>\n",
              "      <th>bp</th>\n",
              "      <th>s1</th>\n",
              "      <th>s2</th>\n",
              "      <th>s3</th>\n",
              "      <th>s4</th>\n",
              "      <th>s5</th>\n",
              "      <th>s6</th>\n",
              "    </tr>\n",
              "  </thead>\n",
              "  <tbody>\n",
              "    <tr>\n",
              "      <th>0</th>\n",
              "      <td>0.038076</td>\n",
              "      <td>0.050680</td>\n",
              "      <td>0.061696</td>\n",
              "      <td>0.021872</td>\n",
              "      <td>-0.044223</td>\n",
              "      <td>-0.034821</td>\n",
              "      <td>-0.043401</td>\n",
              "      <td>-0.002592</td>\n",
              "      <td>0.019908</td>\n",
              "      <td>-0.017646</td>\n",
              "    </tr>\n",
              "    <tr>\n",
              "      <th>1</th>\n",
              "      <td>-0.001882</td>\n",
              "      <td>-0.044642</td>\n",
              "      <td>-0.051474</td>\n",
              "      <td>-0.026328</td>\n",
              "      <td>-0.008449</td>\n",
              "      <td>-0.019163</td>\n",
              "      <td>0.074412</td>\n",
              "      <td>-0.039493</td>\n",
              "      <td>-0.068330</td>\n",
              "      <td>-0.092204</td>\n",
              "    </tr>\n",
              "    <tr>\n",
              "      <th>2</th>\n",
              "      <td>0.085299</td>\n",
              "      <td>0.050680</td>\n",
              "      <td>0.044451</td>\n",
              "      <td>-0.005671</td>\n",
              "      <td>-0.045599</td>\n",
              "      <td>-0.034194</td>\n",
              "      <td>-0.032356</td>\n",
              "      <td>-0.002592</td>\n",
              "      <td>0.002864</td>\n",
              "      <td>-0.025930</td>\n",
              "    </tr>\n",
              "    <tr>\n",
              "      <th>3</th>\n",
              "      <td>-0.089063</td>\n",
              "      <td>-0.044642</td>\n",
              "      <td>-0.011595</td>\n",
              "      <td>-0.036656</td>\n",
              "      <td>0.012191</td>\n",
              "      <td>0.024991</td>\n",
              "      <td>-0.036038</td>\n",
              "      <td>0.034309</td>\n",
              "      <td>0.022692</td>\n",
              "      <td>-0.009362</td>\n",
              "    </tr>\n",
              "    <tr>\n",
              "      <th>4</th>\n",
              "      <td>0.005383</td>\n",
              "      <td>-0.044642</td>\n",
              "      <td>-0.036385</td>\n",
              "      <td>0.021872</td>\n",
              "      <td>0.003935</td>\n",
              "      <td>0.015596</td>\n",
              "      <td>0.008142</td>\n",
              "      <td>-0.002592</td>\n",
              "      <td>-0.031991</td>\n",
              "      <td>-0.046641</td>\n",
              "    </tr>\n",
              "  </tbody>\n",
              "</table>\n",
              "</div>\n",
              "      <button class=\"colab-df-convert\" onclick=\"convertToInteractive('df-43ae6d9a-175b-4728-a87f-ce7798b648dc')\"\n",
              "              title=\"Convert this dataframe to an interactive table.\"\n",
              "              style=\"display:none;\">\n",
              "        \n",
              "  <svg xmlns=\"http://www.w3.org/2000/svg\" height=\"24px\"viewBox=\"0 0 24 24\"\n",
              "       width=\"24px\">\n",
              "    <path d=\"M0 0h24v24H0V0z\" fill=\"none\"/>\n",
              "    <path d=\"M18.56 5.44l.94 2.06.94-2.06 2.06-.94-2.06-.94-.94-2.06-.94 2.06-2.06.94zm-11 1L8.5 8.5l.94-2.06 2.06-.94-2.06-.94L8.5 2.5l-.94 2.06-2.06.94zm10 10l.94 2.06.94-2.06 2.06-.94-2.06-.94-.94-2.06-.94 2.06-2.06.94z\"/><path d=\"M17.41 7.96l-1.37-1.37c-.4-.4-.92-.59-1.43-.59-.52 0-1.04.2-1.43.59L10.3 9.45l-7.72 7.72c-.78.78-.78 2.05 0 2.83L4 21.41c.39.39.9.59 1.41.59.51 0 1.02-.2 1.41-.59l7.78-7.78 2.81-2.81c.8-.78.8-2.07 0-2.86zM5.41 20L4 18.59l7.72-7.72 1.47 1.35L5.41 20z\"/>\n",
              "  </svg>\n",
              "      </button>\n",
              "      \n",
              "  <style>\n",
              "    .colab-df-container {\n",
              "      display:flex;\n",
              "      flex-wrap:wrap;\n",
              "      gap: 12px;\n",
              "    }\n",
              "\n",
              "    .colab-df-convert {\n",
              "      background-color: #E8F0FE;\n",
              "      border: none;\n",
              "      border-radius: 50%;\n",
              "      cursor: pointer;\n",
              "      display: none;\n",
              "      fill: #1967D2;\n",
              "      height: 32px;\n",
              "      padding: 0 0 0 0;\n",
              "      width: 32px;\n",
              "    }\n",
              "\n",
              "    .colab-df-convert:hover {\n",
              "      background-color: #E2EBFA;\n",
              "      box-shadow: 0px 1px 2px rgba(60, 64, 67, 0.3), 0px 1px 3px 1px rgba(60, 64, 67, 0.15);\n",
              "      fill: #174EA6;\n",
              "    }\n",
              "\n",
              "    [theme=dark] .colab-df-convert {\n",
              "      background-color: #3B4455;\n",
              "      fill: #D2E3FC;\n",
              "    }\n",
              "\n",
              "    [theme=dark] .colab-df-convert:hover {\n",
              "      background-color: #434B5C;\n",
              "      box-shadow: 0px 1px 3px 1px rgba(0, 0, 0, 0.15);\n",
              "      filter: drop-shadow(0px 1px 2px rgba(0, 0, 0, 0.3));\n",
              "      fill: #FFFFFF;\n",
              "    }\n",
              "  </style>\n",
              "\n",
              "      <script>\n",
              "        const buttonEl =\n",
              "          document.querySelector('#df-43ae6d9a-175b-4728-a87f-ce7798b648dc button.colab-df-convert');\n",
              "        buttonEl.style.display =\n",
              "          google.colab.kernel.accessAllowed ? 'block' : 'none';\n",
              "\n",
              "        async function convertToInteractive(key) {\n",
              "          const element = document.querySelector('#df-43ae6d9a-175b-4728-a87f-ce7798b648dc');\n",
              "          const dataTable =\n",
              "            await google.colab.kernel.invokeFunction('convertToInteractive',\n",
              "                                                     [key], {});\n",
              "          if (!dataTable) return;\n",
              "\n",
              "          const docLinkHtml = 'Like what you see? Visit the ' +\n",
              "            '<a target=\"_blank\" href=https://colab.research.google.com/notebooks/data_table.ipynb>data table notebook</a>'\n",
              "            + ' to learn more about interactive tables.';\n",
              "          element.innerHTML = '';\n",
              "          dataTable['output_type'] = 'display_data';\n",
              "          await google.colab.output.renderOutput(dataTable, element);\n",
              "          const docLink = document.createElement('div');\n",
              "          docLink.innerHTML = docLinkHtml;\n",
              "          element.appendChild(docLink);\n",
              "        }\n",
              "      </script>\n",
              "    </div>\n",
              "  </div>\n",
              "  "
            ]
          },
          "metadata": {},
          "execution_count": 35
        }
      ],
      "source": [
        "X.head()"
      ]
    },
    {
      "cell_type": "markdown",
      "id": "9ce6cd71-dd17-40af-b7cc-c48e61d31719",
      "metadata": {
        "id": "9ce6cd71-dd17-40af-b7cc-c48e61d31719"
      },
      "source": [
        "### 2.1. EDA (2 обязательных балла + 2 доп. балла за Pipeline)"
      ]
    },
    {
      "cell_type": "markdown",
      "id": "4397b3ad-63f9-4b25-ab7e-d572216e21c5",
      "metadata": {
        "id": "4397b3ad-63f9-4b25-ab7e-d572216e21c5"
      },
      "source": [
        "Сделайте EDA, предобработайте данные так, как считаете нужным, нужна ли в данном случае стандартизация и почему? Не забудте, что если вы стандартизуете данные, то нужно считать среднее и сдандартное отклонение на тренировочной части и с помощью них трансформировать и train, и test (**если не поняли это предложение, то обязательно разберитесь**).\n",
        "\n",
        "**Дополнительно**:\n",
        "Попробуйте разобраться с [`Pipeline`](https://scikit-learn.org/stable/modules/generated/sklearn.pipeline.Pipeline.html), чтобы можно было создать класс, который сразу проводит стандартизацию и обучает модель (или делает предсказание). Пайплайны очень удобны, когда нужно применять различные методы предобработки данных (в том числе и к разным столбцам), а также они позволяют правильно интегрировать предобработку данных в различные классы для поиска наилучших гиперпараметров модели (например, `GridSearchCV`)."
      ]
    },
    {
      "cell_type": "code",
      "execution_count": 36,
      "id": "a4aa413d-d830-4355-a063-9c5d6d5a6c9a",
      "metadata": {
        "id": "a4aa413d-d830-4355-a063-9c5d6d5a6c9a"
      },
      "outputs": [],
      "source": [
        "from sklearn.pipeline import Pipeline"
      ]
    },
    {
      "cell_type": "code",
      "source": [
        "X.shape # узнать размер датасета"
      ],
      "metadata": {
        "colab": {
          "base_uri": "https://localhost:8080/"
        },
        "id": "3YyIVdtdZfMO",
        "outputId": "bd5d16da-1364-4caa-b64e-d409392395dc"
      },
      "id": "3YyIVdtdZfMO",
      "execution_count": 55,
      "outputs": [
        {
          "output_type": "execute_result",
          "data": {
            "text/plain": [
              "(442, 10)"
            ]
          },
          "metadata": {},
          "execution_count": 55
        }
      ]
    },
    {
      "cell_type": "markdown",
      "source": [
        "*442 строки на 10 столбцов*"
      ],
      "metadata": {
        "id": "DRf5WoVHaCqL"
      },
      "id": "DRf5WoVHaCqL"
    },
    {
      "cell_type": "code",
      "source": [
        "X.describe() # краткое статистическое описание данных"
      ],
      "metadata": {
        "colab": {
          "base_uri": "https://localhost:8080/",
          "height": 434
        },
        "id": "gkQ5Cq_sZwMb",
        "outputId": "70188cb1-19d6-4f89-b010-dfda81c89a93"
      },
      "id": "gkQ5Cq_sZwMb",
      "execution_count": 57,
      "outputs": [
        {
          "output_type": "execute_result",
          "data": {
            "text/plain": [
              "                age           sex           bmi            bp            s1  \\\n",
              "count  4.420000e+02  4.420000e+02  4.420000e+02  4.420000e+02  4.420000e+02   \n",
              "mean  -3.639623e-16  1.309912e-16 -8.013951e-16  1.289818e-16 -9.042540e-17   \n",
              "std    4.761905e-02  4.761905e-02  4.761905e-02  4.761905e-02  4.761905e-02   \n",
              "min   -1.072256e-01 -4.464164e-02 -9.027530e-02 -1.123996e-01 -1.267807e-01   \n",
              "25%   -3.729927e-02 -4.464164e-02 -3.422907e-02 -3.665645e-02 -3.424784e-02   \n",
              "50%    5.383060e-03 -4.464164e-02 -7.283766e-03 -5.670611e-03 -4.320866e-03   \n",
              "75%    3.807591e-02  5.068012e-02  3.124802e-02  3.564384e-02  2.835801e-02   \n",
              "max    1.107267e-01  5.068012e-02  1.705552e-01  1.320442e-01  1.539137e-01   \n",
              "\n",
              "                 s2            s3            s4            s5            s6  \n",
              "count  4.420000e+02  4.420000e+02  4.420000e+02  4.420000e+02  4.420000e+02  \n",
              "mean   1.301121e-16 -4.563971e-16  3.863174e-16 -3.848103e-16 -3.398488e-16  \n",
              "std    4.761905e-02  4.761905e-02  4.761905e-02  4.761905e-02  4.761905e-02  \n",
              "min   -1.156131e-01 -1.023071e-01 -7.639450e-02 -1.260974e-01 -1.377672e-01  \n",
              "25%   -3.035840e-02 -3.511716e-02 -3.949338e-02 -3.324879e-02 -3.317903e-02  \n",
              "50%   -3.819065e-03 -6.584468e-03 -2.592262e-03 -1.947634e-03 -1.077698e-03  \n",
              "75%    2.984439e-02  2.931150e-02  3.430886e-02  3.243323e-02  2.791705e-02  \n",
              "max    1.987880e-01  1.811791e-01  1.852344e-01  1.335990e-01  1.356118e-01  "
            ],
            "text/html": [
              "\n",
              "  <div id=\"df-8b62832b-4402-495d-9b8d-cba7b3744dee\">\n",
              "    <div class=\"colab-df-container\">\n",
              "      <div>\n",
              "<style scoped>\n",
              "    .dataframe tbody tr th:only-of-type {\n",
              "        vertical-align: middle;\n",
              "    }\n",
              "\n",
              "    .dataframe tbody tr th {\n",
              "        vertical-align: top;\n",
              "    }\n",
              "\n",
              "    .dataframe thead th {\n",
              "        text-align: right;\n",
              "    }\n",
              "</style>\n",
              "<table border=\"1\" class=\"dataframe\">\n",
              "  <thead>\n",
              "    <tr style=\"text-align: right;\">\n",
              "      <th></th>\n",
              "      <th>age</th>\n",
              "      <th>sex</th>\n",
              "      <th>bmi</th>\n",
              "      <th>bp</th>\n",
              "      <th>s1</th>\n",
              "      <th>s2</th>\n",
              "      <th>s3</th>\n",
              "      <th>s4</th>\n",
              "      <th>s5</th>\n",
              "      <th>s6</th>\n",
              "    </tr>\n",
              "  </thead>\n",
              "  <tbody>\n",
              "    <tr>\n",
              "      <th>count</th>\n",
              "      <td>4.420000e+02</td>\n",
              "      <td>4.420000e+02</td>\n",
              "      <td>4.420000e+02</td>\n",
              "      <td>4.420000e+02</td>\n",
              "      <td>4.420000e+02</td>\n",
              "      <td>4.420000e+02</td>\n",
              "      <td>4.420000e+02</td>\n",
              "      <td>4.420000e+02</td>\n",
              "      <td>4.420000e+02</td>\n",
              "      <td>4.420000e+02</td>\n",
              "    </tr>\n",
              "    <tr>\n",
              "      <th>mean</th>\n",
              "      <td>-3.639623e-16</td>\n",
              "      <td>1.309912e-16</td>\n",
              "      <td>-8.013951e-16</td>\n",
              "      <td>1.289818e-16</td>\n",
              "      <td>-9.042540e-17</td>\n",
              "      <td>1.301121e-16</td>\n",
              "      <td>-4.563971e-16</td>\n",
              "      <td>3.863174e-16</td>\n",
              "      <td>-3.848103e-16</td>\n",
              "      <td>-3.398488e-16</td>\n",
              "    </tr>\n",
              "    <tr>\n",
              "      <th>std</th>\n",
              "      <td>4.761905e-02</td>\n",
              "      <td>4.761905e-02</td>\n",
              "      <td>4.761905e-02</td>\n",
              "      <td>4.761905e-02</td>\n",
              "      <td>4.761905e-02</td>\n",
              "      <td>4.761905e-02</td>\n",
              "      <td>4.761905e-02</td>\n",
              "      <td>4.761905e-02</td>\n",
              "      <td>4.761905e-02</td>\n",
              "      <td>4.761905e-02</td>\n",
              "    </tr>\n",
              "    <tr>\n",
              "      <th>min</th>\n",
              "      <td>-1.072256e-01</td>\n",
              "      <td>-4.464164e-02</td>\n",
              "      <td>-9.027530e-02</td>\n",
              "      <td>-1.123996e-01</td>\n",
              "      <td>-1.267807e-01</td>\n",
              "      <td>-1.156131e-01</td>\n",
              "      <td>-1.023071e-01</td>\n",
              "      <td>-7.639450e-02</td>\n",
              "      <td>-1.260974e-01</td>\n",
              "      <td>-1.377672e-01</td>\n",
              "    </tr>\n",
              "    <tr>\n",
              "      <th>25%</th>\n",
              "      <td>-3.729927e-02</td>\n",
              "      <td>-4.464164e-02</td>\n",
              "      <td>-3.422907e-02</td>\n",
              "      <td>-3.665645e-02</td>\n",
              "      <td>-3.424784e-02</td>\n",
              "      <td>-3.035840e-02</td>\n",
              "      <td>-3.511716e-02</td>\n",
              "      <td>-3.949338e-02</td>\n",
              "      <td>-3.324879e-02</td>\n",
              "      <td>-3.317903e-02</td>\n",
              "    </tr>\n",
              "    <tr>\n",
              "      <th>50%</th>\n",
              "      <td>5.383060e-03</td>\n",
              "      <td>-4.464164e-02</td>\n",
              "      <td>-7.283766e-03</td>\n",
              "      <td>-5.670611e-03</td>\n",
              "      <td>-4.320866e-03</td>\n",
              "      <td>-3.819065e-03</td>\n",
              "      <td>-6.584468e-03</td>\n",
              "      <td>-2.592262e-03</td>\n",
              "      <td>-1.947634e-03</td>\n",
              "      <td>-1.077698e-03</td>\n",
              "    </tr>\n",
              "    <tr>\n",
              "      <th>75%</th>\n",
              "      <td>3.807591e-02</td>\n",
              "      <td>5.068012e-02</td>\n",
              "      <td>3.124802e-02</td>\n",
              "      <td>3.564384e-02</td>\n",
              "      <td>2.835801e-02</td>\n",
              "      <td>2.984439e-02</td>\n",
              "      <td>2.931150e-02</td>\n",
              "      <td>3.430886e-02</td>\n",
              "      <td>3.243323e-02</td>\n",
              "      <td>2.791705e-02</td>\n",
              "    </tr>\n",
              "    <tr>\n",
              "      <th>max</th>\n",
              "      <td>1.107267e-01</td>\n",
              "      <td>5.068012e-02</td>\n",
              "      <td>1.705552e-01</td>\n",
              "      <td>1.320442e-01</td>\n",
              "      <td>1.539137e-01</td>\n",
              "      <td>1.987880e-01</td>\n",
              "      <td>1.811791e-01</td>\n",
              "      <td>1.852344e-01</td>\n",
              "      <td>1.335990e-01</td>\n",
              "      <td>1.356118e-01</td>\n",
              "    </tr>\n",
              "  </tbody>\n",
              "</table>\n",
              "</div>\n",
              "      <button class=\"colab-df-convert\" onclick=\"convertToInteractive('df-8b62832b-4402-495d-9b8d-cba7b3744dee')\"\n",
              "              title=\"Convert this dataframe to an interactive table.\"\n",
              "              style=\"display:none;\">\n",
              "        \n",
              "  <svg xmlns=\"http://www.w3.org/2000/svg\" height=\"24px\"viewBox=\"0 0 24 24\"\n",
              "       width=\"24px\">\n",
              "    <path d=\"M0 0h24v24H0V0z\" fill=\"none\"/>\n",
              "    <path d=\"M18.56 5.44l.94 2.06.94-2.06 2.06-.94-2.06-.94-.94-2.06-.94 2.06-2.06.94zm-11 1L8.5 8.5l.94-2.06 2.06-.94-2.06-.94L8.5 2.5l-.94 2.06-2.06.94zm10 10l.94 2.06.94-2.06 2.06-.94-2.06-.94-.94-2.06-.94 2.06-2.06.94z\"/><path d=\"M17.41 7.96l-1.37-1.37c-.4-.4-.92-.59-1.43-.59-.52 0-1.04.2-1.43.59L10.3 9.45l-7.72 7.72c-.78.78-.78 2.05 0 2.83L4 21.41c.39.39.9.59 1.41.59.51 0 1.02-.2 1.41-.59l7.78-7.78 2.81-2.81c.8-.78.8-2.07 0-2.86zM5.41 20L4 18.59l7.72-7.72 1.47 1.35L5.41 20z\"/>\n",
              "  </svg>\n",
              "      </button>\n",
              "      \n",
              "  <style>\n",
              "    .colab-df-container {\n",
              "      display:flex;\n",
              "      flex-wrap:wrap;\n",
              "      gap: 12px;\n",
              "    }\n",
              "\n",
              "    .colab-df-convert {\n",
              "      background-color: #E8F0FE;\n",
              "      border: none;\n",
              "      border-radius: 50%;\n",
              "      cursor: pointer;\n",
              "      display: none;\n",
              "      fill: #1967D2;\n",
              "      height: 32px;\n",
              "      padding: 0 0 0 0;\n",
              "      width: 32px;\n",
              "    }\n",
              "\n",
              "    .colab-df-convert:hover {\n",
              "      background-color: #E2EBFA;\n",
              "      box-shadow: 0px 1px 2px rgba(60, 64, 67, 0.3), 0px 1px 3px 1px rgba(60, 64, 67, 0.15);\n",
              "      fill: #174EA6;\n",
              "    }\n",
              "\n",
              "    [theme=dark] .colab-df-convert {\n",
              "      background-color: #3B4455;\n",
              "      fill: #D2E3FC;\n",
              "    }\n",
              "\n",
              "    [theme=dark] .colab-df-convert:hover {\n",
              "      background-color: #434B5C;\n",
              "      box-shadow: 0px 1px 3px 1px rgba(0, 0, 0, 0.15);\n",
              "      filter: drop-shadow(0px 1px 2px rgba(0, 0, 0, 0.3));\n",
              "      fill: #FFFFFF;\n",
              "    }\n",
              "  </style>\n",
              "\n",
              "      <script>\n",
              "        const buttonEl =\n",
              "          document.querySelector('#df-8b62832b-4402-495d-9b8d-cba7b3744dee button.colab-df-convert');\n",
              "        buttonEl.style.display =\n",
              "          google.colab.kernel.accessAllowed ? 'block' : 'none';\n",
              "\n",
              "        async function convertToInteractive(key) {\n",
              "          const element = document.querySelector('#df-8b62832b-4402-495d-9b8d-cba7b3744dee');\n",
              "          const dataTable =\n",
              "            await google.colab.kernel.invokeFunction('convertToInteractive',\n",
              "                                                     [key], {});\n",
              "          if (!dataTable) return;\n",
              "\n",
              "          const docLinkHtml = 'Like what you see? Visit the ' +\n",
              "            '<a target=\"_blank\" href=https://colab.research.google.com/notebooks/data_table.ipynb>data table notebook</a>'\n",
              "            + ' to learn more about interactive tables.';\n",
              "          element.innerHTML = '';\n",
              "          dataTable['output_type'] = 'display_data';\n",
              "          await google.colab.output.renderOutput(dataTable, element);\n",
              "          const docLink = document.createElement('div');\n",
              "          docLink.innerHTML = docLinkHtml;\n",
              "          element.appendChild(docLink);\n",
              "        }\n",
              "      </script>\n",
              "    </div>\n",
              "  </div>\n",
              "  "
            ]
          },
          "metadata": {},
          "execution_count": 57
        }
      ]
    },
    {
      "cell_type": "code",
      "source": [
        "fig, axs = plt.subplots(nrows=2, ncols=5, figsize=(10, 10))\n",
        "\n",
        "for ax, i in zip(axs.flat, X.columns):\n",
        "    sns.histplot(X[i], ax=ax, kde=True,)"
      ],
      "metadata": {
        "colab": {
          "base_uri": "https://localhost:8080/",
          "height": 606
        },
        "id": "bEHfINifbBl4",
        "outputId": "a339d834-db68-4e1c-95d2-2e164a364908"
      },
      "id": "bEHfINifbBl4",
      "execution_count": 66,
      "outputs": [
        {
          "output_type": "display_data",
          "data": {
            "text/plain": [
              "<Figure size 720x720 with 10 Axes>"
            ],
            "image/png": "[encoded data removed]"
          },
          "metadata": {}
        }
      ]
    },
    {
      "cell_type": "markdown",
      "source": [
        "*Все переменные (кроме пола, само собой) можно считать нормально распределёнными*"
      ],
      "metadata": {
        "id": "Sp8WV_jha6fG"
      },
      "id": "Sp8WV_jha6fG"
    },
    {
      "cell_type": "code",
      "source": [
        "X.std()"
      ],
      "metadata": {
        "colab": {
          "base_uri": "https://localhost:8080/"
        },
        "id": "okmgehYzfgeG",
        "outputId": "108f273d-15bb-4047-8b18-bd887e9d2e39"
      },
      "id": "okmgehYzfgeG",
      "execution_count": 67,
      "outputs": [
        {
          "output_type": "execute_result",
          "data": {
            "text/plain": [
              "age    0.047619\n",
              "sex    0.047619\n",
              "bmi    0.047619\n",
              "bp     0.047619\n",
              "s1     0.047619\n",
              "s2     0.047619\n",
              "s3     0.047619\n",
              "s4     0.047619\n",
              "s5     0.047619\n",
              "s6     0.047619\n",
              "dtype: float64"
            ]
          },
          "metadata": {},
          "execution_count": 67
        }
      ]
    },
    {
      "cell_type": "markdown",
      "source": [
        "*Данные стандартизованы, предобработка не требуется*"
      ],
      "metadata": {
        "id": "g2eTY4XwfjWv"
      },
      "id": "g2eTY4XwfjWv"
    },
    {
      "cell_type": "markdown",
      "id": "8e1fa5ec-18db-4e7b-88f1-6d010f449488",
      "metadata": {
        "id": "8e1fa5ec-18db-4e7b-88f1-6d010f449488"
      },
      "source": [
        "### 2.2. Регрессионная модель (1 балл)"
      ]
    },
    {
      "cell_type": "markdown",
      "id": "3d79f583-5feb-4eeb-b748-9b4cdea9150d",
      "metadata": {
        "id": "3d79f583-5feb-4eeb-b748-9b4cdea9150d"
      },
      "source": [
        "Создайте модель `KNeighborsRegressor`, обучите ее на треноровочных данных и сделайте предсказания."
      ]
    },
    {
      "cell_type": "code",
      "source": [
        "X_train, X_test, y_train, y_test = train_test_split(X, y, test_size=0.2)\n",
        "knn_regress = KNeighborsRegressor(n_neighbors=2)\n",
        "knn_regress.fit(X_train, y_train)\n",
        "y_pred = knn_regress.predict(X_test)"
      ],
      "metadata": {
        "id": "1qKOoSA7nQgQ"
      },
      "id": "1qKOoSA7nQgQ",
      "execution_count": 37,
      "outputs": []
    },
    {
      "cell_type": "markdown",
      "id": "5ed4a2ea-4f42-43cb-95d7-50cdeab5f284",
      "metadata": {
        "id": "5ed4a2ea-4f42-43cb-95d7-50cdeab5f284"
      },
      "source": [
        "### 2.3. Метрики регресии (3 балла)"
      ]
    },
    {
      "cell_type": "markdown",
      "id": "cbf563ad-1b71-464c-8359-75fa4da268d3",
      "metadata": {
        "id": "cbf563ad-1b71-464c-8359-75fa4da268d3"
      },
      "source": [
        "Реализуйте метрики $R^2$, MSE и  MAE в `metrics.py`. Примените их для оценки качества полученной модели. Все ли хорошо?\n",
        "\n",
        "Напомню, что:\n",
        "\n",
        "$R^2 = 1 - \\frac{\\sum_i^n{(y_i - \\hat{y_i})^2}}{\\sum_i^n{(y_i - \\overline{y})^2}}$\n",
        "\n",
        "$MSE = \\frac{1}{n}\\sum_i^n{(y_i - \\hat{y_i})^2}$\n",
        "\n",
        "$MAE = \\frac{1}{n}\\sum_i^n{|y_i - \\hat{y_i}|}$"
      ]
    },
    {
      "cell_type": "code",
      "execution_count": 38,
      "id": "580f604f-e9c5-4109-8b9f-235369836057",
      "metadata": {
        "id": "580f604f-e9c5-4109-8b9f-235369836057"
      },
      "outputs": [],
      "source": [
        "# TODO: r_squared, mse, mae in metrics.py"
      ]
    },
    {
      "cell_type": "markdown",
      "id": "a6568d8d-a9ec-4639-aac1-0ea18a644f9e",
      "metadata": {
        "id": "a6568d8d-a9ec-4639-aac1-0ea18a644f9e"
      },
      "source": [
        "### 2.4. Подбор оптимального числа соседей (2 балла)"
      ]
    },
    {
      "cell_type": "markdown",
      "id": "d82f145d-41f5-4bbe-b553-1d05d90ec2a2",
      "metadata": {
        "id": "d82f145d-41f5-4bbe-b553-1d05d90ec2a2"
      },
      "source": [
        "Мы почти дошли до конца. Теперь осталось при помощи реализованных нами метрик выбрать лучшее количество соседей для нашей модели.\n",
        "\n",
        "!!! Обратите внимание на то, что значат наши метрики, для некоторых хорошо, когда они уменьшаются, для других наоборот."
      ]
    },
    {
      "cell_type": "code",
      "execution_count": 40,
      "id": "138a7969-8079-4a38-b92e-8eae5d246325",
      "metadata": {
        "id": "138a7969-8079-4a38-b92e-8eae5d246325"
      },
      "outputs": [],
      "source": [
        "from metrics import r_squared, mse, mae"
      ]
    },
    {
      "cell_type": "code",
      "source": [
        "print(f'r_squared: {r_squared(y_pred, y_test)}, \\\n",
        "\\nmse: {mse(y_pred, y_test)}, \\\n",
        "\\nmae: {mae(y_pred, y_test)}')"
      ],
      "metadata": {
        "colab": {
          "base_uri": "https://localhost:8080/"
        },
        "id": "xhpdqus8xe5Y",
        "outputId": "f790cb88-617d-43b0-d7e7-69353d7a0a39"
      },
      "id": "xhpdqus8xe5Y",
      "execution_count": 39,
      "outputs": [
        {
          "output_type": "stream",
          "name": "stdout",
          "text": [
            "r_squared: 0.30041682569240624, \n",
            "mse: 5243.733146067416, \n",
            "mae: 56.62359550561798\n"
          ]
        }
      ]
    },
    {
      "cell_type": "markdown",
      "source": [
        "*Сравним с результатами от sklearn:*"
      ],
      "metadata": {
        "id": "BhkqzoFLv3QF"
      },
      "id": "BhkqzoFLv3QF"
    },
    {
      "cell_type": "code",
      "source": [
        "print(f'r_squared: {r2_score(y_test, y_pred)}, \\\n",
        "\\nmse: {mean_squared_error(y_test, y_pred)}, \\\n",
        "\\nmae: {mean_absolute_error(y_test, y_pred)}')"
      ],
      "metadata": {
        "colab": {
          "base_uri": "https://localhost:8080/"
        },
        "id": "UDIUgfOtv2gl",
        "outputId": "21651eef-a1b6-4b3c-b28e-904fa6faf290"
      },
      "id": "UDIUgfOtv2gl",
      "execution_count": 41,
      "outputs": [
        {
          "output_type": "stream",
          "name": "stdout",
          "text": [
            "r_squared: 0.30041682569240624,  \n",
            "mse: 5243.733146067416,   \n",
            "mae: 56.62359550561798\n"
          ]
        }
      ]
    },
    {
      "cell_type": "markdown",
      "source": [
        "*Результаты рассчётов идентичны!*"
      ],
      "metadata": {
        "id": "jJW3Jb1kwrJS"
      },
      "id": "jJW3Jb1kwrJS"
    },
    {
      "cell_type": "markdown",
      "id": "1b4bbef7-35a4-4f05-abf8-5d2b450c86f2",
      "metadata": {
        "id": "1b4bbef7-35a4-4f05-abf8-5d2b450c86f2"
      },
      "source": [
        "Для поиска лучшего k вы можете воспользоваться функцией `find_best_k`, которую вы реализовали выше."
      ]
    },
    {
      "cell_type": "code",
      "source": [
        "from metrics import r_squared, mse, mae"
      ],
      "metadata": {
        "id": "M90TNxq33d5E"
      },
      "id": "M90TNxq33d5E",
      "execution_count": 42,
      "outputs": []
    },
    {
      "cell_type": "markdown",
      "source": [
        "*Но в данной функции предполагается замена модели на KNeighborsRegressor, поэтому перепишем её*"
      ],
      "metadata": {
        "id": "cbxZrY9hG4gy"
      },
      "id": "cbxZrY9hG4gy"
    },
    {
      "cell_type": "code",
      "source": [
        "def find_best_k_reg(X_train, y_train, X_test, y_test, params, metric):\n",
        "    train_metrics = []\n",
        "    test_metrics = []\n",
        "    for k in params:\n",
        "      reg_classifier = KNeighborsRegressor(n_neighbors=k)\n",
        "      reg_classifier.fit(X_train, y_train)\n",
        "      train_pred = reg_classifier.predict(X_train)\n",
        "      test_pred = reg_classifier.predict(X_test)\n",
        "      train_metrics.append(metric(train_pred, y_train))\n",
        "      test_metrics.append(metric(test_pred, y_test))\n",
        "    return train_metrics, test_metrics"
      ],
      "metadata": {
        "id": "drV18a_Tx0Ef"
      },
      "id": "drV18a_Tx0Ef",
      "execution_count": 44,
      "outputs": []
    },
    {
      "cell_type": "code",
      "source": [
        "# mse score\n",
        "params = range(1, 20)\n",
        "train_metrics, test_metrics = find_best_k_reg(X_train, y_train, \n",
        "                                          X_test, y_test, \n",
        "                                          params, mse)\n",
        "\n",
        "plt.plot(params, train_metrics, label=\"train\")\n",
        "plt.plot(params, test_metrics, label=\"test\")\n",
        "plt.legend()\n",
        "plt.xlabel(\"K in KNN\")\n",
        "plt.ylabel(\"mse score\");"
      ],
      "metadata": {
        "colab": {
          "base_uri": "https://localhost:8080/",
          "height": 551
        },
        "id": "LMpR9TvfHxYr",
        "outputId": "87dfacd8-0a70-4657-dab1-b9854a04234e"
      },
      "id": "LMpR9TvfHxYr",
      "execution_count": 47,
      "outputs": [
        {
          "output_type": "display_data",
          "data": {
            "text/plain": [
              "<Figure size 864x648 with 1 Axes>"
            ],
            "image/png": "[encoded data removed]"
          },
          "metadata": {}
        }
      ]
    },
    {
      "cell_type": "code",
      "source": [
        "# mae score\n",
        "params = range(1, 20)\n",
        "train_metrics, test_metrics = find_best_k_reg(X_train, y_train, \n",
        "                                              X_test, y_test, \n",
        "                                              params, mae)\n",
        "\n",
        "plt.plot(params, train_metrics, label=\"train\")\n",
        "plt.plot(params, test_metrics, label=\"test\")\n",
        "plt.legend()\n",
        "plt.xlabel(\"K in KNN\")\n",
        "plt.ylabel(\"mae score\");"
      ],
      "metadata": {
        "id": "1ztxoYaLy4AV",
        "colab": {
          "base_uri": "https://localhost:8080/",
          "height": 553
        },
        "outputId": "38457107-ffeb-4aa1-abcf-c02d09b83e10"
      },
      "id": "1ztxoYaLy4AV",
      "execution_count": 48,
      "outputs": [
        {
          "output_type": "display_data",
          "data": {
            "text/plain": [
              "<Figure size 864x648 with 1 Axes>"
            ],
            "image/png": "[encoded data removed]"
          },
          "metadata": {}
        }
      ]
    },
    {
      "cell_type": "markdown",
      "source": [
        "*Отсюда видно, что примерно при к=10 графики практически выходят на \"плато\", и это значение можем считать оптимальным для финального расчёта*"
      ],
      "metadata": {
        "id": "c9JbGHWSJfoL"
      },
      "id": "c9JbGHWSJfoL"
    },
    {
      "cell_type": "code",
      "source": [
        "knn_regress_10 = KNeighborsRegressor(n_neighbors=10)\n",
        "knn_regress_10.fit(X_train, y_train)\n",
        "y_pred_10 = knn_regress_10.predict(X_test)\n",
        "\n",
        "print(f'r_squared: {r_squared(y_pred_10, y_test)}, \\\n",
        "\\nmse: {mse(y_pred_10, y_test)}, \\\n",
        "\\nmae: {mae(y_pred_10, y_test)}')"
      ],
      "metadata": {
        "colab": {
          "base_uri": "https://localhost:8080/"
        },
        "id": "g1Ehm9krJfQ6",
        "outputId": "c5b5fb2b-a89b-441e-8ffe-20f032595dc3"
      },
      "id": "g1Ehm9krJfQ6",
      "execution_count": 53,
      "outputs": [
        {
          "output_type": "stream",
          "name": "stdout",
          "text": [
            "r_squared: 0.45556654877708236, \n",
            "mse: 4080.8067415730334, \n",
            "mae: 53.746067415730344\n"
          ]
        }
      ]
    },
    {
      "cell_type": "markdown",
      "source": [
        "## При подстановке \"наилучшего\" k удалось: \n",
        "\n",
        "*   повысить r_squared (было 0.30, стало 0.46)\n",
        "*   и понизить  mse (было 5244, стало 4081)\n",
        "\n",
        "## что демонстрирует улучшение предсказательной модели (хотя, она всё ещё довольно слабая). \n",
        "\n"
      ],
      "metadata": {
        "id": "ZrfzQ802XFvw"
      },
      "id": "ZrfzQ802XFvw"
    },
    {
      "cell_type": "markdown",
      "id": "2cb77960-fa30-4a29-9a1b-7c195cc867cb",
      "metadata": {
        "id": "2cb77960-fa30-4a29-9a1b-7c195cc867cb"
      },
      "source": [
        "### 3. Социализация (0.5 доп. балла)\n",
        "\n",
        "Так как у нас теперь большая группа, то было бы здорово всем познакомиться получше (так как выпускной не за горами). Соберитесь с одногруппниками в зуме (желательно, чтобы были люди и с Онлайна, и с Питера), познакомьтесь, а сюда прикрепите скриншот с камерами всех участников."
      ]
    },
    {
      "cell_type": "markdown",
      "id": "e116a42f-fae8-499c-a985-dc09e66a29b0",
      "metadata": {
        "id": "e116a42f-fae8-499c-a985-dc09e66a29b0"
      },
      "source": [
        "## Therapy time"
      ]
    },
    {
      "cell_type": "markdown",
      "id": "031c493b-26f3-4622-a1f4-affee64f81db",
      "metadata": {
        "id": "031c493b-26f3-4622-a1f4-affee64f81db"
      },
      "source": [
        "Напишите здесь ваши впечатления о задании: было ли интересно, было ли слишком легко или наоборот сложно и тд. Также сюда можно написать свои идеи по улучшению заданий, а также предложить данные, на основе которых вы бы хотели построить следующие дз. "
      ]
    },
    {
      "cell_type": "markdown",
      "id": "6d1c75b8",
      "metadata": {
        "id": "6d1c75b8"
      },
      "source": [
        "**Ваши мысли:**"
      ]
    }
  ],
  "metadata": {
    "kernelspec": {
      "display_name": "Python 3",
      "language": "python",
      "name": "python3"
    },
    "language_info": {
      "codemirror_mode": {
        "name": "ipython",
        "version": 3
      },
      "file_extension": ".py",
      "mimetype": "text/x-python",
      "name": "python",
      "nbconvert_exporter": "python",
      "pygments_lexer": "ipython3",
      "version": "3.8.8"
    },
    "colab": {
      "provenance": [],
      "toc_visible": true
    }
  },
  "nbformat": 4,
  "nbformat_minor": 5
}